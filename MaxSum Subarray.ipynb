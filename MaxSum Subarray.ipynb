{
 "cells": [
  {
   "cell_type": "markdown",
   "metadata": {},
   "source": [
    "## Find max sum sub array in one array."
   ]
  },
  {
   "cell_type": "code",
   "execution_count": 1,
   "metadata": {},
   "outputs": [],
   "source": [
    "A = [-3,0,4,6,-12,2,42,-43]"
   ]
  },
  {
   "cell_type": "code",
   "execution_count": 2,
   "metadata": {},
   "outputs": [],
   "source": [
    "def MaxSumSubarray(A):\n",
    "    if len(A)==0:\n",
    "        return NULL\n",
    "    cur,glb = A[0],A[0]\n",
    "    lhs, rhs = 0,0\n",
    "    for i in range(1,len(A)):\n",
    "        temp = max(cur+A[i], A[i])\n",
    "        if cur > temp:\n",
    "            continue\n",
    "        else:\n",
    "            rhs = i\n",
    "            if cur<0:\n",
    "                lhs = i\n",
    "            cur = temp\n",
    "        glb = max(glb, cur)\n",
    "        \n",
    "    return glb,lhs, rhs\n",
    "        \n",
    "        "
   ]
  },
  {
   "cell_type": "code",
   "execution_count": 3,
   "metadata": {},
   "outputs": [
    {
     "name": "stdout",
     "output_type": "stream",
     "text": [
      "(54, 1, 6)\n"
     ]
    }
   ],
   "source": [
    "print(MaxSumSubarray(A))"
   ]
  }
 ],
 "metadata": {
  "kernelspec": {
   "display_name": "Python 3",
   "language": "python",
   "name": "python3"
  },
  "language_info": {
   "codemirror_mode": {
    "name": "ipython",
    "version": 3
   },
   "file_extension": ".py",
   "mimetype": "text/x-python",
   "name": "python",
   "nbconvert_exporter": "python",
   "pygments_lexer": "ipython3",
   "version": "3.6.6"
  }
 },
 "nbformat": 4,
 "nbformat_minor": 2
}
