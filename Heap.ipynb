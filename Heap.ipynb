{
 "cells": [
  {
   "cell_type": "markdown",
   "metadata": {},
   "source": [
    "## We try to construct a heap structure, which contains the heap and its functions."
   ]
  },
  {
   "cell_type": "code",
   "execution_count": 1,
   "metadata": {},
   "outputs": [],
   "source": [
    "class MaxHeap:\n",
    "    def __init__(self, data=[]):\n",
    "        self.data = data\n",
    "        self.length = len(self.data)\n",
    "        self.heap_size = self.length\n",
    "        \n",
    "    def  __getitem__(self, idx):\n",
    "        return self.data[idx]\n",
    "    \n",
    "    def __setitem__(self, idx, val):\n",
    "        self.data[idx] = val\n",
    "        \n",
    "    def __str__(self):\n",
    "         return str(self.data)"
   ]
  },
  {
   "cell_type": "markdown",
   "metadata": {},
   "source": [
    "### firstly, we construct methods which shall be used in this class."
   ]
  },
  {
   "cell_type": "markdown",
   "metadata": {},
   "source": [
    "#### 1. methods used to find indexes."
   ]
  },
  {
   "cell_type": "code",
   "execution_count": 2,
   "metadata": {},
   "outputs": [],
   "source": [
    "def Parent(i):\n",
    "    return (i+1)//2-1\n",
    "\n",
    "def Left(i):\n",
    "    return 2*(i+1)-1\n",
    "\n",
    "def Right(i):\n",
    "    return 2*(i + 1)"
   ]
  },
  {
   "cell_type": "markdown",
   "metadata": {},
   "source": [
    "#### 2. methos used to adjust the heap."
   ]
  },
  {
   "cell_type": "code",
   "execution_count": 3,
   "metadata": {},
   "outputs": [],
   "source": [
    "def MaxHeapify(A, i):\n",
    "    l, r = Left(i), Right(i)\n",
    "    \n",
    "    if l < A.heap_size and A[l] >= A[i]:\n",
    "        largest = l\n",
    "    else:\n",
    "        largest = i\n",
    "        \n",
    "    if r < A.heap_size and A[r] >= A[largest]:\n",
    "        largest = r\n",
    "    \n",
    "    if largest != i:\n",
    "        temp = A[largest]\n",
    "        A[largest] = A[i]\n",
    "        A[i] = temp\n",
    "        MaxHeapify(A, largest)\n",
    "   "
   ]
  },
  {
   "cell_type": "markdown",
   "metadata": {},
   "source": [
    "#### 3. methods to construct a heap."
   ]
  },
  {
   "cell_type": "code",
   "execution_count": 4,
   "metadata": {},
   "outputs": [],
   "source": [
    "def BuildMaxHeap(A):\n",
    "    A.heap_size = A.length\n",
    "    \n",
    "    temp = A.length//2-1\n",
    "    \n",
    "    while temp >= 0:\n",
    "        MaxHeapify(A, temp)     \n",
    "        temp -= 1      \n",
    "    "
   ]
  },
  {
   "cell_type": "markdown",
   "metadata": {},
   "source": [
    "#### 4. methods to sort a heap."
   ]
  },
  {
   "cell_type": "code",
   "execution_count": 5,
   "metadata": {},
   "outputs": [],
   "source": [
    "def HeapSort(A):\n",
    "    # build A as Max Heap\n",
    "    BuildMaxHeap(A)\n",
    "    \n",
    "    # Now we sort the Max Heap to be increasing array.\n",
    "    for i in range(1, A.length):\n",
    "        temp = A[0]\n",
    "        A[0] = A[A.heap_size-1]\n",
    "        A[A.heap_size-1] = temp\n",
    "        \n",
    "        A.heap_size -= 1\n",
    "        \n",
    "        MaxHeapify(A, 0)"
   ]
  },
  {
   "cell_type": "markdown",
   "metadata": {},
   "source": [
    "### Use Heap to construct Priority Queue."
   ]
  },
  {
   "cell_type": "code",
   "execution_count": 6,
   "metadata": {},
   "outputs": [],
   "source": [
    "# return max value.\n",
    "def HwapMaximum(A):\n",
    "    return A[0]\n",
    "\n",
    "# return and remove maximum value from heap.\n",
    "def HeapExtractMax(A):\n",
    "    if A.length < 1:\n",
    "        raise ValueError('Null Heap.')\n",
    "    \n",
    "    max_val = A[0]\n",
    "    A[0] = A[A.heap_size-1]\n",
    "    A.heap_size -= 1\n",
    "    \n",
    "    MaxHeapify(A, 0)\n",
    "    return max_val\n",
    "\n",
    "# Increase key value of heap.\n",
    "def HeapIncreaseKey(A, i, new_val):\n",
    "    if new_val < A[i]:\n",
    "        raise ValueError('New value is smaller than original one.')\n",
    "    \n",
    "    A[i] = key\n",
    "    \n",
    "    while i > 0 and A[Parent(i)]<A[i]:\n",
    "        A[i] = A[Parent(i)]\n",
    "        A[Parent(i)] = key\n",
    "        i = Parent(i)\n",
    "        \n",
    "# Insert an element in to heap.\n",
    "def MaxHeapInsert(A, key):\n",
    "    A.heap_size += 1\n",
    "    A[A.heap_size-1] = float('-inf')\n",
    "    HeapIncreaseKey(A, A.heap_size-1, key)"
   ]
  },
  {
   "cell_type": "markdown",
   "metadata": {},
   "source": [
    "### Test our functions."
   ]
  },
  {
   "cell_type": "code",
   "execution_count": 7,
   "metadata": {},
   "outputs": [
    {
     "name": "stdout",
     "output_type": "stream",
     "text": [
      "10\n",
      "10\n",
      "[16, 14, 10, 8, 7, 9, 3, 2, 4, 1]\n"
     ]
    }
   ],
   "source": [
    "temp = [16,4,10,14,7,9,3,2,8,1]\n",
    "\n",
    "temp_max_heap = MaxHeap(temp)\n",
    "\n",
    "print(temp_max_heap.length)\n",
    "print(temp_max_heap.heap_size)\n",
    "\n",
    "MaxHeapify(temp_max_heap, 1)\n",
    "\n",
    "print(temp_max_heap)"
   ]
  },
  {
   "cell_type": "code",
   "execution_count": 8,
   "metadata": {
    "scrolled": true
   },
   "outputs": [
    {
     "name": "stdout",
     "output_type": "stream",
     "text": [
      "[16, 14, 10, 8, 7, 9, 3, 2, 4, 1]\n",
      "[1, 2, 3, 4, 7, 8, 9, 10, 14, 16]\n"
     ]
    }
   ],
   "source": [
    "temp1 = [4,1,3,2,16,9,10,14,8,7]\n",
    "\n",
    "temp1_max_heap = MaxHeap(temp1)\n",
    "\n",
    "BuildMaxHeap(temp1_max_heap)\n",
    "\n",
    "print(temp1_max_heap)\n",
    "\n",
    "HeapSort(temp1_max_heap)\n",
    "\n",
    "print(temp1_max_heap)"
   ]
  }
 ],
 "metadata": {
  "kernelspec": {
   "display_name": "Python 3",
   "language": "python",
   "name": "python3"
  },
  "language_info": {
   "codemirror_mode": {
    "name": "ipython",
    "version": 3
   },
   "file_extension": ".py",
   "mimetype": "text/x-python",
   "name": "python",
   "nbconvert_exporter": "python",
   "pygments_lexer": "ipython3",
   "version": "3.6.6"
  }
 },
 "nbformat": 4,
 "nbformat_minor": 2
}
