{
 "cells": [
  {
   "cell_type": "code",
   "execution_count": 1,
   "metadata": {},
   "outputs": [],
   "source": [
    "# Create a class for nodes in list.\n",
    "class Node:\n",
    "    def __init__(self, val_, prev_ = None, next_= None):\n",
    "        self.prev = prev_\n",
    "        self.val = val_\n",
    "        self.next = next_\n",
    "\n",
    "# Create a method to add node.\n",
    "def addNode(l,val):    \n",
    "    if l.length == 0:\n",
    "        l.head = l.tail = Node(val)\n",
    "    else:\n",
    "        l.tail.next = Node(val,prev_ = l.tail)\n",
    "        l.tail = l.tail.next\n",
    "    l.length += 1\n",
    "    \n",
    "# Create class for list.    \n",
    "class L:\n",
    "    def __init__(self, data = []):\n",
    "        self.head = None\n",
    "        self.tail = None\n",
    "        self.length = 0\n",
    "        for i in data:\n",
    "            addNode(self, i)"
   ]
  },
  {
   "cell_type": "code",
   "execution_count": 2,
   "metadata": {
    "scrolled": true
   },
   "outputs": [
    {
     "name": "stdout",
     "output_type": "stream",
     "text": [
      "2\n",
      "3\n",
      "4\n",
      "5\n"
     ]
    }
   ],
   "source": [
    "test_l = L([2,3,4,5])\n",
    "temp = test_l.head\n",
    "\n",
    "while temp != None:\n",
    "    print(temp.val)\n",
    "    temp = temp.next\n"
   ]
  },
  {
   "cell_type": "code",
   "execution_count": 3,
   "metadata": {},
   "outputs": [],
   "source": [
    "# 定义一个插入方法。(头部插入)\n",
    "def L_insert(l,val):\n",
    "    l.head.prev = Node(val,next_ = l.head)\n",
    "    l.head = l.head.prev"
   ]
  },
  {
   "cell_type": "code",
   "execution_count": 4,
   "metadata": {},
   "outputs": [
    {
     "name": "stdout",
     "output_type": "stream",
     "text": [
      "1\n",
      "2\n",
      "3\n",
      "4\n",
      "5\n"
     ]
    }
   ],
   "source": [
    "# 检验头部插入方法\n",
    "L_insert(test_l, 1)\n",
    "temp = test_l.head\n",
    "while temp != None:\n",
    "    print(temp.val)\n",
    "    temp = temp.next"
   ]
  },
  {
   "cell_type": "code",
   "execution_count": 5,
   "metadata": {},
   "outputs": [],
   "source": [
    "# 定义一个 search 方法。\n",
    "def L_search(l, val):\n",
    "    temp = l.head\n",
    "    while temp!=None and temp.val != val:\n",
    "        temp = temp.next\n",
    "    if temp == None:\n",
    "        print(\"404 Not Found\") # XD\n",
    "    else:\n",
    "        print(\"Value found.\", temp.val)\n",
    "    return temp"
   ]
  },
  {
   "cell_type": "code",
   "execution_count": 6,
   "metadata": {},
   "outputs": [
    {
     "name": "stdout",
     "output_type": "stream",
     "text": [
      "Value found. 5\n",
      "404 Not Found\n"
     ]
    }
   ],
   "source": [
    "L_search(test_l, 5)\n",
    "L_search(test_l, 6)"
   ]
  },
  {
   "cell_type": "code",
   "execution_count": 7,
   "metadata": {},
   "outputs": [],
   "source": [
    "# 定义一个删除方法。\n",
    "# 由于我们已经可以通过 Search 方法找的指定数值的节点的指针，因此\n",
    "# 我们可以直接在删除方法中使用指针作为参数。\n",
    "def L_delete(l, addr):\n",
    "    if addr == None:\n",
    "        pass\n",
    "    else:\n",
    "        if addr.prev == None:\n",
    "            l.head = addr.next\n",
    "            l.head.prev = None\n",
    "        else:\n",
    "            addr.prev.next = addr.next\n",
    "        if addr.next == None:\n",
    "            l.tail = addr.prev\n",
    "            l.tail.next = None\n",
    "        else:\n",
    "            addr.next.prev = addr.prev"
   ]
  },
  {
   "cell_type": "code",
   "execution_count": 8,
   "metadata": {
    "scrolled": false
   },
   "outputs": [
    {
     "name": "stdout",
     "output_type": "stream",
     "text": [
      "Value found. 5\n",
      "5\n",
      "4\n"
     ]
    }
   ],
   "source": [
    "addr5 = L_search(test_l, 5)\n",
    "L_delete(test_l, addr5)\n",
    "print(addr5.val)\n",
    "print(test_l.tail.val)"
   ]
  },
  {
   "cell_type": "markdown",
   "metadata": {},
   "source": [
    "我们还可以在L中增设一个哨兵位置。哨兵可以用来代替None,这种情况下可以节省很多关于None的判断时间。\n",
    "如在双向循环链表中，L.nil.next = l.head, L.nil.prev = l.tail, 这样可以同时节省两个位置与很多判断所需时间。"
   ]
  }
 ],
 "metadata": {
  "kernelspec": {
   "display_name": "Python 3",
   "language": "python",
   "name": "python3"
  },
  "language_info": {
   "codemirror_mode": {
    "name": "ipython",
    "version": 3
   },
   "file_extension": ".py",
   "mimetype": "text/x-python",
   "name": "python",
   "nbconvert_exporter": "python",
   "pygments_lexer": "ipython3",
   "version": "3.6.6"
  }
 },
 "nbformat": 4,
 "nbformat_minor": 2
}
