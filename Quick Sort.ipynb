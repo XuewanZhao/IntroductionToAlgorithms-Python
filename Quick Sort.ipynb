{
 "cells": [
  {
   "cell_type": "markdown",
   "metadata": {},
   "source": [
    "## We are going to implement quick sort by python. This content is the chapter 7 of < Introduction to Algorithms>.\n",
    "\n",
    "The idea behind quick sort is:\n",
    "1. choose one element as standard;\n",
    "2. then we go through this array. \n",
    "3. Two sub-array is constructed, elements in first sub-array are all smaller than this standard, others are all larger than standard. \n",
    "4. Then we adjust the position of standard. Sort two sub-array."
   ]
  },
  {
   "cell_type": "markdown",
   "metadata": {},
   "source": [
    "### 1. utils function: partition function."
   ]
  },
  {
   "cell_type": "code",
   "execution_count": 1,
   "metadata": {},
   "outputs": [],
   "source": [
    "def Partition(A, l, r):\n",
    "    # we choose l as the standard.\n",
    "    st = A[l]\n",
    "    \n",
    "    l1, l2 = l+1, l+1\n",
    "    \n",
    "    while l2 <= r:\n",
    "        if A[l2] < st:\n",
    "            # exchange value.\n",
    "            temp = A[l1]\n",
    "            A[l1] = A[l2]\n",
    "            A[l2] = temp\n",
    "            l1 += 1\n",
    "        l2 += 1\n",
    "    # adjust the position of standard.\n",
    "    A[l] = A[l1-1]\n",
    "    A[l1-1] = st\n",
    "    \n",
    "    return l1-2, l1"
   ]
  },
  {
   "cell_type": "markdown",
   "metadata": {},
   "source": [
    "#### test."
   ]
  },
  {
   "cell_type": "code",
   "execution_count": 2,
   "metadata": {
    "scrolled": false
   },
   "outputs": [
    {
     "data": {
      "text/plain": [
       "(0, 2)"
      ]
     },
     "execution_count": 2,
     "metadata": {},
     "output_type": "execute_result"
    }
   ],
   "source": [
    "t = [2,8,7,1,3,5,6,4]\n",
    "Partition(t, 0, len(t)-1)"
   ]
  },
  {
   "cell_type": "markdown",
   "metadata": {},
   "source": [
    "### 2. Quick sort function."
   ]
  },
  {
   "cell_type": "code",
   "execution_count": 3,
   "metadata": {},
   "outputs": [],
   "source": [
    "def QuickSort(A, l, r):\n",
    "    if l < r:\n",
    "        r1, l1 = Partition(A, l, r)\n",
    "        print(A,l,r1, l1, r)\n",
    "        QuickSort(A, l, r1)\n",
    "        QuickSort(A, l1, r)"
   ]
  },
  {
   "cell_type": "markdown",
   "metadata": {},
   "source": [
    "#### test."
   ]
  },
  {
   "cell_type": "code",
   "execution_count": 4,
   "metadata": {
    "scrolled": false
   },
   "outputs": [
    {
     "name": "stdout",
     "output_type": "stream",
     "text": [
      "[1, 2, 7, 8, 3, 5, 6, 4] 0 0 2 7\n",
      "[1, 2, 4, 3, 5, 6, 7, 8] 2 5 7 7\n",
      "[1, 2, 3, 4, 5, 6, 7, 8] 2 2 4 5\n",
      "[1, 2, 3, 4, 5, 6, 7, 8] 4 3 5 5\n"
     ]
    }
   ],
   "source": [
    "t = [2,8,7,1,3,5,6,4]\n",
    "QuickSort(t, 0, len(t)-1)"
   ]
  },
  {
   "cell_type": "markdown",
   "metadata": {},
   "source": [
    "### 3. Add randomness into quick sort."
   ]
  },
  {
   "cell_type": "code",
   "execution_count": 5,
   "metadata": {},
   "outputs": [],
   "source": [
    "from random import randint\n",
    "\n",
    "def R_Partition(A, l, r):\n",
    "    # we randomly choose the standard.\n",
    "    rand = randint(l, r)\n",
    "    st = A[rand]\n",
    "    A[rand] = A[l]\n",
    "    A[l] = st\n",
    "    \n",
    "    l1, l2 = l+1, l+1\n",
    "    \n",
    "    while l2 <= r:\n",
    "        if A[l2] < st:\n",
    "            # exchange value.\n",
    "            temp = A[l1]\n",
    "            A[l1] = A[l2]\n",
    "            A[l2] = temp\n",
    "            l1 += 1\n",
    "        l2 += 1\n",
    "    # adjust the position of standard.\n",
    "    A[l] = A[l1-1]\n",
    "    A[l1-1] = st\n",
    "    \n",
    "    return l1-2, l1\n",
    "\n",
    "def R_QuickSort(A, l, r):\n",
    "    if l < r:\n",
    "        r1, l1 = R_Partition(A, l, r)\n",
    "        print(A,l,r1, l1, r)\n",
    "    \n",
    "        R_QuickSort(A, l, r1)\n",
    "        R_QuickSort(A, l1, r)\n"
   ]
  }
 ],
 "metadata": {
  "kernelspec": {
   "display_name": "Python 3",
   "language": "python",
   "name": "python3"
  },
  "language_info": {
   "codemirror_mode": {
    "name": "ipython",
    "version": 3
   },
   "file_extension": ".py",
   "mimetype": "text/x-python",
   "name": "python",
   "nbconvert_exporter": "python",
   "pygments_lexer": "ipython3",
   "version": "3.6.6"
  }
 },
 "nbformat": 4,
 "nbformat_minor": 2
}
